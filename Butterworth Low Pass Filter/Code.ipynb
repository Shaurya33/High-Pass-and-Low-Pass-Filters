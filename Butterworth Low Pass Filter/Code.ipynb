{
 "cells": [
  {
   "cell_type": "code",
   "execution_count": 1,
   "id": "75d39580",
   "metadata": {},
   "outputs": [],
   "source": [
    "#Butterworth Low PAss Filter\n",
    "import cv2\n",
    "import numpy as np\n",
    "from scipy.signal import butter, filtfilt\n",
    "\n",
    "# Define the cutoff frequency and filter order\n",
    "cutoff_frequency = 0.1  # Cutoff frequency (0.0 to 1.0, where 1.0 represents Nyquist frequency)\n",
    "filter_order = 4\n",
    "\n",
    "# Load the image (replace 'input_image.jpg' with your image file)\n",
    "input_image = cv2.imread(r'D:\\SRM_Classes\\DIP\\penguin.jpg', 0)  # Load the image in grayscale\n",
    "\n",
    "# Normalize the image to the range [0, 1]\n",
    "input_image = input_image.astype(np.float32) / 255.0\n",
    "\n",
    "# Calculate the shape of the input image\n",
    "rows, cols = input_image.shape\n",
    "\n",
    "# Calculate the Nyquist frequency\n",
    "nyquist_x = 0.5\n",
    "nyquist_y = 0.5\n",
    "\n",
    "# Calculate the normalized cutoff frequency\n",
    "normalized_cutoff = cutoff_frequency\n",
    "\n",
    "# Design the Butterworth low-pass filter\n",
    "b, a = butter(filter_order, normalized_cutoff, btype='low', analog=False)\n",
    "\n",
    "# Apply the Butterworth filter to the image using filtfilt\n",
    "filtered_image = np.zeros_like(input_image)\n",
    "\n",
    "for i in range(rows):\n",
    "    filtered_image[i, :] = filtfilt(b, a, input_image[i, :])\n",
    "\n",
    "for i in range(cols):\n",
    "    filtered_image[:, i] = filtfilt(b, a, filtered_image[:, i])\n",
    "\n",
    "# Normalize the filtered image to the range [0, 255]\n",
    "filtered_image = (filtered_image * 255).astype(np.uint8)\n",
    "\n",
    "# Display the original and filtered images\n",
    "cv2.imshow('Original Image', input_image)\n",
    "cv2.imshow('Filtered Image', filtered_image)\n",
    "cv2.waitKey(0)\n",
    "cv2.destroyAllWindows()\n"
   ]
  },
  {
   "cell_type": "code",
   "execution_count": null,
   "id": "eb6f7180",
   "metadata": {},
   "outputs": [],
   "source": []
  }
 ],
 "metadata": {
  "kernelspec": {
   "display_name": "Python 3 (ipykernel)",
   "language": "python",
   "name": "python3"
  },
  "language_info": {
   "codemirror_mode": {
    "name": "ipython",
    "version": 3
   },
   "file_extension": ".py",
   "mimetype": "text/x-python",
   "name": "python",
   "nbconvert_exporter": "python",
   "pygments_lexer": "ipython3",
   "version": "3.10.2"
  }
 },
 "nbformat": 4,
 "nbformat_minor": 5
}
