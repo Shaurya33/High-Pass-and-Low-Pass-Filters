{
 "cells": [
  {
   "cell_type": "code",
   "execution_count": 3,
   "id": "588bcf46",
   "metadata": {},
   "outputs": [],
   "source": [
    "#Gaussian High Pass Filtered\n",
    "\n",
    "import cv2\n",
    "import numpy as np\n",
    "from scipy.ndimage import gaussian_filter\n",
    "\n",
    "# Load the image (replace 'input_image.jpg' with your image file)\n",
    "input_image = cv2.imread(r'D:\\SRM_Classes\\DIP\\penguin.jpg', cv2.IMREAD_GRAYSCALE)\n",
    "\n",
    "# Normalize the image to the range [0, 1]\n",
    "input_image = input_image.astype(np.float32) / 255.0\n",
    "\n",
    "# Define the standard deviation for the Gaussian high-pass filter\n",
    "sigma = 10.0  # Adjust this value to control the high-pass effect\n",
    "\n",
    "# Apply the Gaussian filter\n",
    "filtered_image = gaussian_filter(input_image, sigma)\n",
    "\n",
    "# Subtract the low-pass (smoothed) image from the original to obtain the high-pass result\n",
    "high_pass_image = input_image - filtered_image\n",
    "\n",
    "# Normalize the high-pass image to the range [0, 255]\n",
    "high_pass_image = (high_pass_image * 255).astype(np.uint8)\n",
    "\n",
    "# Display the original image and the high-pass result\n",
    "cv2.imshow('Original Image', input_image)\n",
    "cv2.imshow('High-Pass Image', high_pass_image)\n",
    "cv2.waitKey(0)\n",
    "cv2.destroyAllWindows()\n"
   ]
  },
  {
   "cell_type": "code",
   "execution_count": null,
   "id": "a93696f0",
   "metadata": {},
   "outputs": [],
   "source": []
  }
 ],
 "metadata": {
  "kernelspec": {
   "display_name": "Python 3 (ipykernel)",
   "language": "python",
   "name": "python3"
  },
  "language_info": {
   "codemirror_mode": {
    "name": "ipython",
    "version": 3
   },
   "file_extension": ".py",
   "mimetype": "text/x-python",
   "name": "python",
   "nbconvert_exporter": "python",
   "pygments_lexer": "ipython3",
   "version": "3.10.2"
  }
 },
 "nbformat": 4,
 "nbformat_minor": 5
}
