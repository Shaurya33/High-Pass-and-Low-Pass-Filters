{
 "cells": [
  {
   "cell_type": "code",
   "execution_count": 3,
   "id": "de4a888d",
   "metadata": {},
   "outputs": [],
   "source": [
    "#Butterworth High Pass Filter\n",
    "import cv2\n",
    "import numpy as np\n",
    "import matplotlib.pyplot as plt\n",
    "# Reading input image\n",
    "input_image = cv2.imread(r'D:\\SRM_Classes\\DIP\\penguin.jpg', cv2.IMREAD_GRAYSCALE)\n",
    "\n",
    "# Saving the size of the input_image in pixels\n",
    "M, N = input_image.shape\n",
    "\n",
    "# Getting Fourier Transform of the input_image using numpy's fft2\n",
    "FT_img = np.fft.fft2(input_image)\n",
    "\n",
    "# Assign the order value\n",
    "n = 2  # Change this value as needed\n",
    "\n",
    "# Assign Cut-off Frequency\n",
    "D0 = 10.0  # Change this value as needed\n",
    "\n",
    "# Designing the filter\n",
    "u = np.arange(M)\n",
    "v = np.arange(N)\n",
    "u[np.where(u > M/2)] -= M\n",
    "v[np.where(v > N/2)] -= N\n",
    "\n",
    "# Creating a meshgrid\n",
    "V, U = np.meshgrid(v, u)\n",
    "\n",
    "# Calculating Euclidean Distance\n",
    "D = np.sqrt(U**2 + V**2)\n",
    "\n",
    "# Determining the filtering mask\n",
    "H = 1 / (1 + (D0 / D)**(2 * n))\n",
    "\n",
    "# Convolution between the Fourier Transformed image and the mask\n",
    "G = H * FT_img\n",
    "\n",
    "# Getting the resultant image by Inverse Fourier Transform\n",
    "filtered_image = np.real(np.fft.ifft2(G))\n",
    "\n",
    "# Displaying Input Image and Output Image\n",
    "cv2.imshow('Original Image', input_image)\n",
    "cv2.imshow('Filtered Image', filtered_image)\n",
    "cv2.waitKey(0)\n",
    "cv2.destroyAllWindows()\n",
    "\n"
   ]
  },
  {
   "cell_type": "code",
   "execution_count": null,
   "id": "939822cd",
   "metadata": {},
   "outputs": [],
   "source": []
  }
 ],
 "metadata": {
  "kernelspec": {
   "display_name": "Python 3 (ipykernel)",
   "language": "python",
   "name": "python3"
  },
  "language_info": {
   "codemirror_mode": {
    "name": "ipython",
    "version": 3
   },
   "file_extension": ".py",
   "mimetype": "text/x-python",
   "name": "python",
   "nbconvert_exporter": "python",
   "pygments_lexer": "ipython3",
   "version": "3.10.2"
  }
 },
 "nbformat": 4,
 "nbformat_minor": 5
}
