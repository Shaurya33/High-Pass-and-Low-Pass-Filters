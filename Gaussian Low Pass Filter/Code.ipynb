{
 "cells": [
  {
   "cell_type": "code",
   "execution_count": 3,
   "id": "10794d58",
   "metadata": {},
   "outputs": [],
   "source": [
    "#Gaussian Low PAss Filter\n",
    "\n",
    "import cv2\n",
    "import numpy as np\n",
    "\n",
    "# Load the image (replace 'input_image.jpg' with your image file)\n",
    "input_image = cv2.imread(r'D:\\SRM_Classes\\DIP\\penguin.jpg', 0)  # Load the image in grayscale\n",
    "\n",
    "# Apply a Gaussian filter\n",
    "kernel_size = (5, 5)  # Adjust the kernel size as needed\n",
    "sigma = 1.0  # Adjust the sigma value for Gaussian smoothing\n",
    "\n",
    "filtered_image = cv2.GaussianBlur(input_image, kernel_size, sigma)\n",
    "\n",
    "# Display the original and filtered images\n",
    "cv2.imshow('Original Image', input_image)\n",
    "cv2.imshow('Filtered Image', filtered_image)\n",
    "cv2.waitKey(0)\n",
    "cv2.destroyAllWindows()\n"
   ]
  },
  {
   "cell_type": "code",
   "execution_count": null,
   "id": "fad06575",
   "metadata": {},
   "outputs": [],
   "source": []
  }
 ],
 "metadata": {
  "kernelspec": {
   "display_name": "Python 3 (ipykernel)",
   "language": "python",
   "name": "python3"
  },
  "language_info": {
   "codemirror_mode": {
    "name": "ipython",
    "version": 3
   },
   "file_extension": ".py",
   "mimetype": "text/x-python",
   "name": "python",
   "nbconvert_exporter": "python",
   "pygments_lexer": "ipython3",
   "version": "3.10.2"
  }
 },
 "nbformat": 4,
 "nbformat_minor": 5
}
